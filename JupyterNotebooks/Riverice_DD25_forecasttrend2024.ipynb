{
 "cells": [
  {
   "cell_type": "code",
   "execution_count": null,
   "metadata": {},
   "outputs": [],
   "source": [
    "from functools import reduce\n",
    "import pandas as pd\n",
    "from pathlib import Path"
   ]
  },
  {
   "cell_type": "code",
   "execution_count": null,
   "metadata": {},
   "outputs": [],
   "source": [
    "PROJPATH = Path().resolve().parent\n",
    "datadir = PROJPATH / \"data/DDforecast_2024\"\n"
   ]
  },
  {
   "cell_type": "code",
   "execution_count": null,
   "metadata": {},
   "outputs": [],
   "source": [
    "dfs = [pd.read_csv(item, co)[['location', 'river', 'average breakup date', 'forecasted date']] for item in sorted(list(datadir.glob(\"*.csv\")))]\n"
   ]
  },
  {
   "cell_type": "code",
   "execution_count": null,
   "metadata": {},
   "outputs": [
    {
     "name": "stderr",
     "output_type": "stream",
     "text": [
      "/var/folders/jh/dmrl1jcn7ql6ftcyq7l6p8v80000gn/T/ipykernel_38752/2459554090.py:1: FutureWarning: Passing 'suffixes' which cause duplicate columns {'forecasted date_x'} in the result is deprecated and will raise a MergeError in a future version.\n",
      "  df_merged = reduce(lambda x, y: pd.merge(x, y, on=['location', 'river', 'average breakup date']), dfs)\n",
      "/var/folders/jh/dmrl1jcn7ql6ftcyq7l6p8v80000gn/T/ipykernel_38752/2459554090.py:1: FutureWarning: Passing 'suffixes' which cause duplicate columns {'forecasted date_x'} in the result is deprecated and will raise a MergeError in a future version.\n",
      "  df_merged = reduce(lambda x, y: pd.merge(x, y, on=['location', 'river', 'average breakup date']), dfs)\n",
      "/var/folders/jh/dmrl1jcn7ql6ftcyq7l6p8v80000gn/T/ipykernel_38752/2459554090.py:1: FutureWarning: Passing 'suffixes' which cause duplicate columns {'forecasted date_x'} in the result is deprecated and will raise a MergeError in a future version.\n",
      "  df_merged = reduce(lambda x, y: pd.merge(x, y, on=['location', 'river', 'average breakup date']), dfs)\n"
     ]
    }
   ],
   "source": [
    "df_merged = reduce(lambda x, y: pd.merge(x, y, on=['location', 'river', 'average breakup date']), dfs)"
   ]
  },
  {
   "cell_type": "code",
   "execution_count": null,
   "metadata": {},
   "outputs": [],
   "source": [
    "df_merged.to_csv(\"trend.csv\")"
   ]
  }
 ],
 "metadata": {
  "kernelspec": {
   "display_name": "fiweps",
   "language": "python",
   "name": "python3"
  },
  "language_info": {
   "codemirror_mode": {
    "name": "ipython",
    "version": 3
   },
   "file_extension": ".py",
   "mimetype": "text/x-python",
   "name": "python",
   "nbconvert_exporter": "python",
   "pygments_lexer": "ipython3"
  }
 },
 "nbformat": 4,
 "nbformat_minor": 2
}
