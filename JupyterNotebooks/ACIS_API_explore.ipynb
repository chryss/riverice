{
 "cells": [
  {
   "cell_type": "code",
   "execution_count": null,
   "metadata": {},
   "outputs": [],
   "source": [
    "import requests\n",
    "import pandas as pd\n",
    "import geopandas as gp\n",
    "import numpy as np\n",
    "from pathlib import Path"
   ]
  },
  {
   "cell_type": "markdown",
   "metadata": {},
   "source": [
    "### Helpers"
   ]
  },
  {
   "cell_type": "code",
   "execution_count": null,
   "metadata": {},
   "outputs": [],
   "source": [
    "outdir = Path('../../../../data/working/')"
   ]
  },
  {
   "cell_type": "code",
   "execution_count": null,
   "metadata": {},
   "outputs": [],
   "source": [
    "def safelyget(alist, idx, default='N/A'):\n",
    "    \"\"\"Returns alist[idx] if exists, else default\"\"\"\n",
    "    try:\n",
    "        return alist[idx]\n",
    "    except (KeyError, IndexError):\n",
    "        return default\n",
    "    \n",
    "def pick_icao(sidslist):\n",
    "    \"\"\"Returns the ICAO code from a station ID list from ACIS\"\"\"\n",
    "    try:\n",
    "        return [item.split()[0] for item in sidslist if item.endswith(' 5')][0]\n",
    "    except (AttributeError, IndexError):\n",
    "        # There's no ICAO code in the list\n",
    "        return ''"
   ]
  },
  {
   "attachments": {},
   "cell_type": "markdown",
   "metadata": {},
   "source": [
    "### Get all ACIS stations that have avg daily temp data, with their data validity rage, ID and lat/lon"
   ]
  },
  {
   "cell_type": "markdown",
   "metadata": {},
   "source": [
    "Variable 13 = snow water equivalent"
   ]
  },
  {
   "cell_type": "code",
   "execution_count": null,
   "metadata": {},
   "outputs": [],
   "source": [
    "baseurl = 'http://data.rcc-acis.org/StnMeta'\n",
    "params = {\n",
    "    'state': \"AK\",\n",
    "    'meta': \"name,uid,sids,ll,elev,valid_daterange\",\n",
    "    'elems': \"avgt,snow\"\n",
    "}"
   ]
  },
  {
   "cell_type": "code",
   "execution_count": null,
   "metadata": {},
   "outputs": [],
   "source": [
    "resp = requests.get(url=baseurl, params=params)"
   ]
  },
  {
   "cell_type": "code",
   "execution_count": null,
   "metadata": {},
   "outputs": [],
   "source": [
    "stationdat = resp.json()['meta']\n",
    "len(stationdat)"
   ]
  },
  {
   "cell_type": "code",
   "execution_count": null,
   "metadata": {},
   "outputs": [],
   "source": [
    "stationdat"
   ]
  },
  {
   "cell_type": "code",
   "execution_count": null,
   "metadata": {},
   "outputs": [],
   "source": [
    "records = [   \n",
    "    dict(\n",
    "        name=stat['name'],\n",
    "        acisID=stat['uid'],\n",
    "        icao=pick_icao(stat['sids']),\n",
    "        longitude=safelyget(safelyget(stat, 'll', []), 0, np.nan),\n",
    "        latitude=safelyget(safelyget(stat, 'll', []), 1, np.nan),\n",
    "        elev_ft=safelyget(stat, 'elev', np.nan), \n",
    "        valid_avgT_start=safelyget(stat['valid_daterange'][0], 0, ''),\n",
    "        valid_avgT_end=safelyget(stat['valid_daterange'][0], 1, ''),\n",
    "        valid_snowdepth_start=safelyget(stat['valid_daterange'][1], 0, ''),\n",
    "        valid_snowdepth_end=safelyget(stat['valid_daterange'][1], 1, ''),\n",
    "    )\n",
    "    for stat in stationdat\n",
    "]\n"
   ]
  },
  {
   "cell_type": "code",
   "execution_count": null,
   "metadata": {},
   "outputs": [],
   "source": [
    "stationDF = pd.DataFrame.from_records(records)\n",
    "stationDF"
   ]
  },
  {
   "cell_type": "markdown",
   "metadata": {},
   "source": [
    "Let's drop stations with no valid temperature data as well as too short / old temp series"
   ]
  },
  {
   "cell_type": "code",
   "execution_count": null,
   "metadata": {},
   "outputs": [],
   "source": [
    "stationDF = stationDF[~(stationDF.valid_avgT_start=='')] \n",
    "stationDF = stationDF[stationDF.valid_avgT_end > '1990']\n",
    "stationDF = stationDF.sort_values(by='name')\n",
    "stationDF = stationDF.reset_index(drop=True)\n",
    "stationDF"
   ]
  },
  {
   "cell_type": "code",
   "execution_count": null,
   "metadata": {},
   "outputs": [],
   "source": [
    "stationDF.to_csv(outdir / \"ACIS_stations_AK_cleaned.csv\")"
   ]
  },
  {
   "cell_type": "code",
   "execution_count": null,
   "metadata": {},
   "outputs": [],
   "source": [
    "selectedstationsDF = stationDF[\n",
    "    (stationDF.valid_avgT_start < '1980-01-01') & (stationDF.valid_avgT_end > '2023-02-01')]\n",
    "selectedstationsDF"
   ]
  },
  {
   "cell_type": "code",
   "execution_count": null,
   "metadata": {},
   "outputs": [],
   "source": [
    "selectedstationsDF.to_csv(outdir / \"ACIS_stations_AK_recentTemps.csv\")"
   ]
  },
  {
   "cell_type": "code",
   "execution_count": null,
   "metadata": {},
   "outputs": [],
   "source": [
    "stationsGDF = gp.GeoDataFrame(\n",
    "    stationDF, geometry=gp.points_from_xy(stationDF.longitude, stationDF.latitude))\n",
    "stationsGDF = stationsGDF.set_crs('epsg:4326')\n",
    "stationsGDF"
   ]
  },
  {
   "cell_type": "code",
   "execution_count": null,
   "metadata": {},
   "outputs": [],
   "source": [
    "stationsGDF"
   ]
  },
  {
   "cell_type": "code",
   "execution_count": null,
   "metadata": {},
   "outputs": [],
   "source": [
    "stationsGDF.to_file(outdir / \"ACISAK_stations.gpkg\", driver='GPKG')"
   ]
  }
 ],
 "metadata": {
  "kernelspec": {
   "display_name": "Python 3",
   "language": "python",
   "name": "python3"
  },
  "language_info": {
   "codemirror_mode": {
    "name": "ipython",
    "version": 3
   },
   "file_extension": ".py",
   "mimetype": "text/x-python",
   "name": "python",
   "nbconvert_exporter": "python",
   "pygments_lexer": "ipython3"
  }
 },
 "nbformat": 4,
 "nbformat_minor": 2
}
