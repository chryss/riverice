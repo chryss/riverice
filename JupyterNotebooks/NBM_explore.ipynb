{
 "cells": [
  {
   "cell_type": "code",
   "execution_count": null,
   "metadata": {},
   "outputs": [],
   "source": [
    "from pathlib import Path\n",
    "import cfgrib\n",
    "import xarray as xr"
   ]
  },
  {
   "cell_type": "code",
   "execution_count": null,
   "metadata": {},
   "outputs": [],
   "source": [
    "PROJPATH = Path().resolve().parent\n",
    "nbm_grib = PROJPATH / \"data/weatherstations/NBM/blend.t12z.core.f001.ak.grib2\""
   ]
  },
  {
   "cell_type": "code",
   "execution_count": null,
   "metadata": {},
   "outputs": [],
   "source": [
    "grb = xr.open_dataset(nbm_grib, engine='cfgrib')\n",
    "grb\n"
   ]
  },
  {
   "cell_type": "code",
   "execution_count": null,
   "metadata": {},
   "outputs": [],
   "source": [
    "line = \"TMP    21| 49  25| 49  26| 50  27| 50  28| 48  28| 47  29| 49  30       \""
   ]
  },
  {
   "cell_type": "code",
   "execution_count": null,
   "metadata": {},
   "outputs": [
    {
     "data": {
      "text/plain": [
       "['21| 49', '25| 49', '26| 50', '27| 50', '28| 48', '28| 47', '29| 49']"
      ]
     },
     "execution_count": 20,
     "metadata": {},
     "output_type": "execute_result"
    }
   ],
   "source": [
    "[line.split(\"TMP    \")[1].split('  ')[:7]"
   ]
  }
 ],
 "metadata": {
  "kernelspec": {
   "display_name": "dyndowntools",
   "language": "python",
   "name": "python3"
  },
  "language_info": {
   "codemirror_mode": {
    "name": "ipython",
    "version": 3
   },
   "file_extension": ".py",
   "mimetype": "text/x-python",
   "name": "python",
   "nbconvert_exporter": "python",
   "pygments_lexer": "ipython3"
  }
 },
 "nbformat": 4,
 "nbformat_minor": 2
}
