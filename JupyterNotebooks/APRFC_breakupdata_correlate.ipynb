{
 "cells": [
  {
   "cell_type": "code",
   "execution_count": 9,
   "metadata": {},
   "outputs": [],
   "source": [
    "import pandas as pd\n",
    "from pathlib import Path\n",
    "import datetime as dt"
   ]
  },
  {
   "cell_type": "code",
   "execution_count": 3,
   "metadata": {},
   "outputs": [],
   "source": [
    "PROJPATH = Path().resolve().parent\n",
    "breakupdata = PROJPATH / \"data/breakupdata/derived\"\n",
    "stationdata = PROJPATH / \"data/weatherstations/ACIS/TDD/tdd_cumul_bystation\"\n"
   ]
  },
  {
   "cell_type": "code",
   "execution_count": 6,
   "metadata": {},
   "outputs": [
    {
     "data": {
      "text/html": [
       "<div>\n",
       "<style scoped>\n",
       "    .dataframe tbody tr th:only-of-type {\n",
       "        vertical-align: middle;\n",
       "    }\n",
       "\n",
       "    .dataframe tbody tr th {\n",
       "        vertical-align: top;\n",
       "    }\n",
       "\n",
       "    .dataframe thead th {\n",
       "        text-align: right;\n",
       "    }\n",
       "</style>\n",
       "<table border=\"1\" class=\"dataframe\">\n",
       "  <thead>\n",
       "    <tr style=\"text-align: right;\">\n",
       "      <th></th>\n",
       "      <th>id</th>\n",
       "      <th>siteID</th>\n",
       "      <th>year</th>\n",
       "      <th>breakup</th>\n",
       "    </tr>\n",
       "  </thead>\n",
       "  <tbody>\n",
       "    <tr>\n",
       "      <th>0</th>\n",
       "      <td>7175</td>\n",
       "      <td>Koyukuk River at Bettles</td>\n",
       "      <td>2022</td>\n",
       "      <td>2022-05-05</td>\n",
       "    </tr>\n",
       "    <tr>\n",
       "      <th>1</th>\n",
       "      <td>7173</td>\n",
       "      <td>Kobuk River at Shungnak</td>\n",
       "      <td>2022</td>\n",
       "      <td>2022-05-20</td>\n",
       "    </tr>\n",
       "    <tr>\n",
       "      <th>2</th>\n",
       "      <td>7172</td>\n",
       "      <td>Buckland River at Buckland</td>\n",
       "      <td>2022</td>\n",
       "      <td>2022-05-21</td>\n",
       "    </tr>\n",
       "    <tr>\n",
       "      <th>3</th>\n",
       "      <td>7171</td>\n",
       "      <td>Yukon River at Mountain Village</td>\n",
       "      <td>2022</td>\n",
       "      <td>2022-05-10</td>\n",
       "    </tr>\n",
       "    <tr>\n",
       "      <th>4</th>\n",
       "      <td>7170</td>\n",
       "      <td>Yukon River at Marshall</td>\n",
       "      <td>2022</td>\n",
       "      <td>2022-05-15</td>\n",
       "    </tr>\n",
       "    <tr>\n",
       "      <th>...</th>\n",
       "      <td>...</td>\n",
       "      <td>...</td>\n",
       "      <td>...</td>\n",
       "      <td>...</td>\n",
       "    </tr>\n",
       "    <tr>\n",
       "      <th>1490</th>\n",
       "      <td>213</td>\n",
       "      <td>Buckland River at Buckland</td>\n",
       "      <td>1988</td>\n",
       "      <td>1988-05-05</td>\n",
       "    </tr>\n",
       "    <tr>\n",
       "      <th>1491</th>\n",
       "      <td>212</td>\n",
       "      <td>Buckland River at Buckland</td>\n",
       "      <td>1987</td>\n",
       "      <td>1987-05-22</td>\n",
       "    </tr>\n",
       "    <tr>\n",
       "      <th>1492</th>\n",
       "      <td>211</td>\n",
       "      <td>Buckland River at Buckland</td>\n",
       "      <td>1986</td>\n",
       "      <td>1986-05-30</td>\n",
       "    </tr>\n",
       "    <tr>\n",
       "      <th>1493</th>\n",
       "      <td>210</td>\n",
       "      <td>Buckland River at Buckland</td>\n",
       "      <td>1984</td>\n",
       "      <td>1984-05-23</td>\n",
       "    </tr>\n",
       "    <tr>\n",
       "      <th>1494</th>\n",
       "      <td>209</td>\n",
       "      <td>Buckland River at Buckland</td>\n",
       "      <td>1983</td>\n",
       "      <td>1983-05-12</td>\n",
       "    </tr>\n",
       "  </tbody>\n",
       "</table>\n",
       "<p>1495 rows × 4 columns</p>\n",
       "</div>"
      ],
      "text/plain": [
       "        id                           siteID  year     breakup\n",
       "0     7175         Koyukuk River at Bettles  2022  2022-05-05\n",
       "1     7173          Kobuk River at Shungnak  2022  2022-05-20\n",
       "2     7172       Buckland River at Buckland  2022  2022-05-21\n",
       "3     7171  Yukon River at Mountain Village  2022  2022-05-10\n",
       "4     7170          Yukon River at Marshall  2022  2022-05-15\n",
       "...    ...                              ...   ...         ...\n",
       "1490   213       Buckland River at Buckland  1988  1988-05-05\n",
       "1491   212       Buckland River at Buckland  1987  1987-05-22\n",
       "1492   211       Buckland River at Buckland  1986  1986-05-30\n",
       "1493   210       Buckland River at Buckland  1984  1984-05-23\n",
       "1494   209       Buckland River at Buckland  1983  1983-05-12\n",
       "\n",
       "[1495 rows x 4 columns]"
      ]
     },
     "execution_count": 6,
     "metadata": {},
     "output_type": "execute_result"
    }
   ],
   "source": [
    "breakuppth = breakupdata / \"breakupDate_cleaned.csv\"\n",
    "breakup = pd.read_csv(breakuppth, header=3, index_col=0)\n",
    "breakup "
   ]
  },
  {
   "cell_type": "code",
   "execution_count": 7,
   "metadata": {},
   "outputs": [
    {
     "data": {
      "text/plain": [
       "PosixPath('/Users/chris/Projects/2023_Riverice/data/weatherstations/ACIS/TDD/tdd_cumul_bystation')"
      ]
     },
     "execution_count": 7,
     "metadata": {},
     "output_type": "execute_result"
    }
   ],
   "source": [
    "stationdata"
   ]
  },
  {
   "cell_type": "code",
   "execution_count": 8,
   "metadata": {},
   "outputs": [
    {
     "data": {
      "text/plain": [
       "[PosixPath('/Users/chris/Projects/2023_Riverice/data/weatherstations/ACIS/TDD/tdd_cumul_bystation/ALYESKA_yearly_TDD_cumul.csv'),\n",
       " PosixPath('/Users/chris/Projects/2023_Riverice/data/weatherstations/ACIS/TDD/tdd_cumul_bystation/ANCHORAGE_MERRILL_FIELD_yearly_TDD_cumul.csv'),\n",
       " PosixPath('/Users/chris/Projects/2023_Riverice/data/weatherstations/ACIS/TDD/tdd_cumul_bystation/ANCHORAGE_TED_STEVENS_INTERNATIONAL_AIRPORT_yearly_TDD_cumul.csv'),\n",
       " PosixPath('/Users/chris/Projects/2023_Riverice/data/weatherstations/ACIS/TDD/tdd_cumul_bystation/AUKE_BAY_yearly_TDD_cumul.csv'),\n",
       " PosixPath('/Users/chris/Projects/2023_Riverice/data/weatherstations/ACIS/TDD/tdd_cumul_bystation/BARROW_AIRPORT_yearly_TDD_cumul.csv'),\n",
       " PosixPath('/Users/chris/Projects/2023_Riverice/data/weatherstations/ACIS/TDD/tdd_cumul_bystation/BETHEL_AIRPORT_yearly_TDD_cumul.csv'),\n",
       " PosixPath('/Users/chris/Projects/2023_Riverice/data/weatherstations/ACIS/TDD/tdd_cumul_bystation/BETTLES_AIRPORT_yearly_TDD_cumul.csv'),\n",
       " PosixPath('/Users/chris/Projects/2023_Riverice/data/weatherstations/ACIS/TDD/tdd_cumul_bystation/BIG_DELTA_AIRPORT_yearly_TDD_cumul.csv'),\n",
       " PosixPath('/Users/chris/Projects/2023_Riverice/data/weatherstations/ACIS/TDD/tdd_cumul_bystation/CHICKEN_yearly_TDD_cumul.csv'),\n",
       " PosixPath('/Users/chris/Projects/2023_Riverice/data/weatherstations/ACIS/TDD/tdd_cumul_bystation/COLD_BAY_AIRPORT_yearly_TDD_cumul.csv'),\n",
       " PosixPath('/Users/chris/Projects/2023_Riverice/data/weatherstations/ACIS/TDD/tdd_cumul_bystation/COLLEGE_OBSERVATORY_yearly_TDD_cumul.csv'),\n",
       " PosixPath('/Users/chris/Projects/2023_Riverice/data/weatherstations/ACIS/TDD/tdd_cumul_bystation/CORDOVA_AIRPORT_yearly_TDD_cumul.csv'),\n",
       " PosixPath('/Users/chris/Projects/2023_Riverice/data/weatherstations/ACIS/TDD/tdd_cumul_bystation/DUTCH_HARBOR_yearly_TDD_cumul.csv'),\n",
       " PosixPath('/Users/chris/Projects/2023_Riverice/data/weatherstations/ACIS/TDD/tdd_cumul_bystation/EAGLE_yearly_TDD_cumul.csv'),\n",
       " PosixPath('/Users/chris/Projects/2023_Riverice/data/weatherstations/ACIS/TDD/tdd_cumul_bystation/FAIRBANKS_INTL_AP_yearly_TDD_cumul.csv'),\n",
       " PosixPath('/Users/chris/Projects/2023_Riverice/data/weatherstations/ACIS/TDD/tdd_cumul_bystation/GULKANA_AIRPORT_yearly_TDD_cumul.csv'),\n",
       " PosixPath('/Users/chris/Projects/2023_Riverice/data/weatherstations/ACIS/TDD/tdd_cumul_bystation/HAINES_AIRPORT_yearly_TDD_cumul.csv'),\n",
       " PosixPath('/Users/chris/Projects/2023_Riverice/data/weatherstations/ACIS/TDD/tdd_cumul_bystation/HOMER_AIRPORT_yearly_TDD_cumul.csv'),\n",
       " PosixPath('/Users/chris/Projects/2023_Riverice/data/weatherstations/ACIS/TDD/tdd_cumul_bystation/ILIAMNA_AIRPORT_yearly_TDD_cumul.csv'),\n",
       " PosixPath('/Users/chris/Projects/2023_Riverice/data/weatherstations/ACIS/TDD/tdd_cumul_bystation/JUNEAU_AIRPORT_yearly_TDD_cumul.csv'),\n",
       " PosixPath('/Users/chris/Projects/2023_Riverice/data/weatherstations/ACIS/TDD/tdd_cumul_bystation/KENAI_AIRPORT_yearly_TDD_cumul.csv'),\n",
       " PosixPath('/Users/chris/Projects/2023_Riverice/data/weatherstations/ACIS/TDD/tdd_cumul_bystation/KETCHIKAN_AIRPORT_yearly_TDD_cumul.csv'),\n",
       " PosixPath('/Users/chris/Projects/2023_Riverice/data/weatherstations/ACIS/TDD/tdd_cumul_bystation/KING_SALMON_AIRPORT_yearly_TDD_cumul.csv'),\n",
       " PosixPath('/Users/chris/Projects/2023_Riverice/data/weatherstations/ACIS/TDD/tdd_cumul_bystation/KODIAK_AIRPORT_yearly_TDD_cumul.csv'),\n",
       " PosixPath('/Users/chris/Projects/2023_Riverice/data/weatherstations/ACIS/TDD/tdd_cumul_bystation/KOTZEBUE_AIRPORT_yearly_TDD_cumul.csv'),\n",
       " PosixPath('/Users/chris/Projects/2023_Riverice/data/weatherstations/ACIS/TDD/tdd_cumul_bystation/MCGRATH_AP_yearly_TDD_cumul.csv'),\n",
       " PosixPath('/Users/chris/Projects/2023_Riverice/data/weatherstations/ACIS/TDD/tdd_cumul_bystation/MCKINLEY_PARK_yearly_TDD_cumul.csv'),\n",
       " PosixPath('/Users/chris/Projects/2023_Riverice/data/weatherstations/ACIS/TDD/tdd_cumul_bystation/NENANA_MUN_AP_yearly_TDD_cumul.csv'),\n",
       " PosixPath('/Users/chris/Projects/2023_Riverice/data/weatherstations/ACIS/TDD/tdd_cumul_bystation/NOME_AIRPORT_yearly_TDD_cumul.csv'),\n",
       " PosixPath('/Users/chris/Projects/2023_Riverice/data/weatherstations/ACIS/TDD/tdd_cumul_bystation/NORTHWAY_AIRPORT_yearly_TDD_cumul.csv'),\n",
       " PosixPath('/Users/chris/Projects/2023_Riverice/data/weatherstations/ACIS/TDD/tdd_cumul_bystation/NORTH_POLE_yearly_TDD_cumul.csv'),\n",
       " PosixPath('/Users/chris/Projects/2023_Riverice/data/weatherstations/ACIS/TDD/tdd_cumul_bystation/SAINT_PAUL_ISLAND_AIRPORT_yearly_TDD_cumul.csv'),\n",
       " PosixPath('/Users/chris/Projects/2023_Riverice/data/weatherstations/ACIS/TDD/tdd_cumul_bystation/SITKA_AIRPORT_yearly_TDD_cumul.csv'),\n",
       " PosixPath('/Users/chris/Projects/2023_Riverice/data/weatherstations/ACIS/TDD/tdd_cumul_bystation/SKAGWAY_AIRPORT_yearly_TDD_cumul.csv'),\n",
       " PosixPath('/Users/chris/Projects/2023_Riverice/data/weatherstations/ACIS/TDD/tdd_cumul_bystation/TALKEETNA_AIRPORT_yearly_TDD_cumul.csv'),\n",
       " PosixPath('/Users/chris/Projects/2023_Riverice/data/weatherstations/ACIS/TDD/tdd_cumul_bystation/TANANA_AIRPORT_yearly_TDD_cumul.csv'),\n",
       " PosixPath('/Users/chris/Projects/2023_Riverice/data/weatherstations/ACIS/TDD/tdd_cumul_bystation/YAKUTAT_AIRPORT_yearly_TDD_cumul.csv')]"
      ]
     },
     "execution_count": 8,
     "metadata": {},
     "output_type": "execute_result"
    }
   ],
   "source": [
    "tdd = sorted(list(stationdata.glob(\"*.csv\")))\n",
    "tdd"
   ]
  },
  {
   "cell_type": "code",
   "execution_count": 16,
   "metadata": {},
   "outputs": [
    {
     "data": {
      "text/plain": [
       "65"
      ]
     },
     "execution_count": 16,
     "metadata": {},
     "output_type": "execute_result"
    }
   ],
   "source": [
    "(dt.datetime.strptime(\"2022-05-05\", \"%Y-%m-%d\").date() - dt.date(2022, 3, 1)).days"
   ]
  },
  {
   "cell_type": "code",
   "execution_count": null,
   "metadata": {},
   "outputs": [],
   "source": []
  },
  {
   "cell_type": "code",
   "execution_count": null,
   "metadata": {},
   "outputs": [],
   "source": []
  },
  {
   "cell_type": "code",
   "execution_count": null,
   "metadata": {},
   "outputs": [],
   "source": []
  },
  {
   "cell_type": "code",
   "execution_count": 33,
   "metadata": {},
   "outputs": [],
   "source": [
    "with open(outpath / \"breakupDate_cleaned.csv\", \"w\") as dst:\n",
    "    dst.write(\"# Data from NWS-APRFC_AK_BreakupDate.csv\\n\")\n",
    "    dst.write(\"# Only sites with more than 30 data points since 1980\\n\")\n",
    "    dst.write(\"# \\n\")\n",
    "    breakup_clean.to_csv(dst)    "
   ]
  },
  {
   "cell_type": "code",
   "execution_count": null,
   "metadata": {},
   "outputs": [],
   "source": []
  }
 ],
 "metadata": {
  "kernelspec": {
   "display_name": "base",
   "language": "python",
   "name": "python3"
  },
  "language_info": {
   "codemirror_mode": {
    "name": "ipython",
    "version": 3
   },
   "file_extension": ".py",
   "mimetype": "text/x-python",
   "name": "python",
   "nbconvert_exporter": "python",
   "pygments_lexer": "ipython3",
   "version": "3.10.8"
  },
  "orig_nbformat": 4
 },
 "nbformat": 4,
 "nbformat_minor": 2
}
