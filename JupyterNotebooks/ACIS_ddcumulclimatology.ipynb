{
 "cells": [
  {
   "cell_type": "code",
   "execution_count": null,
   "metadata": {},
   "outputs": [],
   "source": [
    "import pandas as pd\n",
    "from pathlib import Path\n",
    "import numpy as np\n",
    "import seaborn as sb\n",
    "from matplotlib import pyplot as plt\n",
    "from matplotlib import cm, colors"
   ]
  },
  {
   "cell_type": "code",
   "execution_count": null,
   "metadata": {},
   "outputs": [],
   "source": [
    "prefix = \"DD25\"       # set to TDD for Thawing Degree Days\n",
    "\n",
    "config = {\n",
    "    \"TDD\": {\n",
    "        \"deltaT\": 32\n",
    "    },\n",
    "    \"DD20\": {\n",
    "        \"deltaT\": 20\n",
    "    },\n",
    "    \"DD25\": {\n",
    "        \"deltaT\": 25\n",
    "    },\n",
    "}\n",
    "\n",
    "PROJPATH = Path().resolve().parent\n",
    "breakupdata = PROJPATH / \"data/breakupdata/derived\"\n",
    "stationdata = PROJPATH / f\"data/weatherstations/ACIS/{prefix}/dd_climatologies\""
   ]
  },
  {
   "cell_type": "code",
   "execution_count": null,
   "metadata": {},
   "outputs": [],
   "source": [
    "stations_ddclim = stationdata.glob(\"*.csv\")\n",
    "stations_ddclim_list = list(stations_ddclim)"
   ]
  },
  {
   "attachments": {},
   "cell_type": "markdown",
   "metadata": {},
   "source": [
    "## Prototyping"
   ]
  },
  {
   "cell_type": "code",
   "execution_count": null,
   "metadata": {},
   "outputs": [],
   "source": [
    "testdata = pd.read_csv(stations_ddclim_list[3], skiprows=4, index_col=0)\n",
    "testdata"
   ]
  },
  {
   "cell_type": "code",
   "execution_count": null,
   "metadata": {},
   "outputs": [],
   "source": [
    "stationname = stations_ddclim_list[3].stem[:-14]\n",
    "testdf = pd.DataFrame(testdata['dd'].cumsum())\n",
    "testdf.columns = [stationname]\n",
    "testdf"
   ]
  },
  {
   "cell_type": "code",
   "execution_count": null,
   "metadata": {},
   "outputs": [],
   "source": [
    "sb.lineplot(data=testdf[stationname])"
   ]
  },
  {
   "attachments": {},
   "cell_type": "markdown",
   "metadata": {},
   "source": [
    "### Loop"
   ]
  },
  {
   "cell_type": "code",
   "execution_count": null,
   "metadata": {},
   "outputs": [],
   "source": [
    "alldd = []\n",
    "for fpth in stations_ddclim_list:\n",
    "    stationname = fpth.stem[:-14]\n",
    "    testdata = pd.read_csv(fpth, skiprows=4, index_col=0)\n",
    "    testdf = pd.DataFrame(testdata['dd'].cumsum())\n",
    "    testdf.columns = [stationname]\n",
    "    alldd.append(testdf)"
   ]
  },
  {
   "cell_type": "code",
   "execution_count": null,
   "metadata": {},
   "outputs": [],
   "source": [
    "clrs = plt.cm.rainbow(np.linspace(0, 1, len(alldd)))\n",
    "clrs = plt.cm.tab20b.colors + plt.cm.tab20c.colors\n",
    "\n",
    "fig, ax = plt.subplots(figsize=(15, 10))\n",
    "pd.concat(alldd, axis=1).plot(ax=ax, legend=False, color=clrs)\n",
    "ax.legend(fontsize=9, ncol=2, loc='upper left')\n",
    "ax.set_xlabel('Days since March 1')\n",
    "ax.set_ylabel(f'Degree days > {config[prefix][\"deltaT\"]} (F)')\n"
   ]
  },
  {
   "cell_type": "code",
   "execution_count": null,
   "metadata": {},
   "outputs": [],
   "source": [
    "allcumulddds = pd.concat(alldd, axis=1)\n",
    "allcumulddds"
   ]
  },
  {
   "cell_type": "code",
   "execution_count": null,
   "metadata": {},
   "outputs": [],
   "source": [
    "outpath = PROJPATH / f\"data/weatherstations/ACIS/{prefix}/\"\n",
    "fn = \"all_cumul_clim1991_2020.csv\"\n",
    "\n",
    "with open(outpath / fn, 'w') as dst:\n",
    "    dst.write(f\"# All climatologies for cumulative degree days > {config[prefix]['deltaT']}, 1991-2020\\n\")\n",
    "    dst.write(f\"# Cumulative degree days starting March 1 from ACIS\\n\")\n",
    "    dst.write(\"#\\n\")\n",
    "    pd.concat(alldd, axis=1).to_csv(dst, float_format='%.2f')"
   ]
  }
 ],
 "metadata": {
  "kernelspec": {
   "display_name": "base",
   "language": "python",
   "name": "python3"
  },
  "language_info": {
   "codemirror_mode": {
    "name": "ipython",
    "version": 3
   },
   "file_extension": ".py",
   "mimetype": "text/x-python",
   "name": "python",
   "nbconvert_exporter": "python",
   "pygments_lexer": "ipython3"
  }
 },
 "nbformat": 4,
 "nbformat_minor": 2
}
